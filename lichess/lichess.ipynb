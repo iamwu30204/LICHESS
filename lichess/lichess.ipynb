{
 "cells": [
  {
   "cell_type": "code",
   "execution_count": 1,
   "id": "5c175a0b-193e-4c47-895d-b0c4761b0407",
   "metadata": {},
   "outputs": [],
   "source": [
    "import csv"
   ]
  },
  {
   "cell_type": "code",
   "execution_count": 2,
   "id": "9c765dc1-0d2c-4481-b42d-4f78678b9906",
   "metadata": {},
   "outputs": [],
   "source": [
    "import chess\n",
    "import chess.pgn"
   ]
  },
  {
   "cell_type": "code",
   "execution_count": 3,
   "id": "6b26e323-caa3-426d-884b-7b2c2fc5bda3",
   "metadata": {},
   "outputs": [
    {
     "name": "stdout",
     "output_type": "stream",
     "text": [
      "1.10.0\n"
     ]
    }
   ],
   "source": [
    "print(chess.__version__)"
   ]
  },
  {
   "cell_type": "code",
   "execution_count": 4,
   "id": "5f3cac60-6a87-4199-a943-e49bd1a9bc2d",
   "metadata": {},
   "outputs": [],
   "source": [
    "pgn_file = open(\"CHUNK/chunk_1.pgn\")"
   ]
  },
  {
   "cell_type": "code",
   "execution_count": 5,
   "id": "88b72168-53d2-4da7-9db2-c6d8dffa2f98",
   "metadata": {},
   "outputs": [
    {
     "name": "stdout",
     "output_type": "stream",
     "text": [
      "数据已成功转换为 CSV 文件：chess_games.csv\n"
     ]
    }
   ],
   "source": [
    "# 定义输入和输出文件路径\n",
    "input = \"CHUNK/chunk_1.pgn\"  # 上传的文件路径\n",
    "output = \"chess_games.csv\"  # 输出的CSV文件路径\n",
    "number = 0\n",
    "# 创建 CSV 文件并写入数据\n",
    "with open(input, \"r\") as pgn, open(output, \"w\", newline=\"\", encoding=\"utf-8\") as csv_file:\n",
    "    # 初始化变量\n",
    "    fieldnames = []  # 用于动态收集所有的字段名\n",
    "    games = []  # 存储每盘棋局的数据\n",
    "\n",
    "    # 第一步：遍历所有棋局，收集字段名和数据\n",
    "    while True:\n",
    "        game = chess.pgn.read_game(pgn)\n",
    "        if number == 5:\n",
    "            break\n",
    "        if game is None:  # 如果读取结束\n",
    "            break\n",
    "\n",
    "        # 收集字段名\n",
    "        headers = game.headers\n",
    "        for key in headers.keys():\n",
    "            if key not in fieldnames:  # 按照出现顺序添加字段名\n",
    "                fieldnames.append(key)\n",
    "\n",
    "        # 添加棋局数据\n",
    "        game_data = headers.copy()\n",
    "        game_data[\"Moves\"] = \" \".join(str(move) for move in game.mainline_moves())  # 添加移动序列\n",
    "        games.append(game_data)\n",
    "\n",
    "        number += 1\n",
    "\n",
    "    # 第二步：写入 CSV 文件\n",
    "    fieldnames = list(fieldnames) + [\"Moves\"]  # 确保字段顺序一致，并添加 Moves\n",
    "    csv_writer = csv.DictWriter(csv_file, fieldnames=fieldnames)\n",
    "    csv_writer.writeheader()  # 写入表头\n",
    "\n",
    "    # 写入每盘棋局的数据\n",
    "    for game_data in games:\n",
    "        csv_writer.writerow(game_data)\n",
    "\n",
    "print(f\"数据已成功转换为 CSV 文件：{output}\")"
   ]
  },
  {
   "cell_type": "code",
   "execution_count": null,
   "id": "d2672023-43ec-4503-834c-95677395b7ad",
   "metadata": {},
   "outputs": [],
   "source": []
  }
 ],
 "metadata": {
  "kernelspec": {
   "display_name": "Python 3 (ipykernel)",
   "language": "python",
   "name": "python3"
  },
  "language_info": {
   "codemirror_mode": {
    "name": "ipython",
    "version": 3
   },
   "file_extension": ".py",
   "mimetype": "text/x-python",
   "name": "python",
   "nbconvert_exporter": "python",
   "pygments_lexer": "ipython3",
   "version": "3.9.6"
  }
 },
 "nbformat": 4,
 "nbformat_minor": 5
}
