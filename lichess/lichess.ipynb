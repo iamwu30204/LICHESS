{
 "cells": [
  {
   "cell_type": "code",
   "execution_count": 1,
   "id": "5c175a0b-193e-4c47-895d-b0c4761b0407",
   "metadata": {},
   "outputs": [],
   "source": [
    "import csv"
   ]
  },
  {
   "cell_type": "code",
   "execution_count": 28,
   "id": "9c765dc1-0d2c-4481-b42d-4f78678b9906",
   "metadata": {},
   "outputs": [],
   "source": [
    "import chess\n",
    "import chess.pgn\n",
    "import io"
   ]
  },
  {
   "cell_type": "code",
   "execution_count": 3,
   "id": "6b26e323-caa3-426d-884b-7b2c2fc5bda3",
   "metadata": {},
   "outputs": [
    {
     "name": "stdout",
     "output_type": "stream",
     "text": [
      "1.10.0\n"
     ]
    }
   ],
   "source": [
    "print(chess.__version__)"
   ]
  },
  {
   "cell_type": "code",
   "execution_count": 8,
   "id": "5f3cac60-6a87-4199-a943-e49bd1a9bc2d",
   "metadata": {},
   "outputs": [],
   "source": [
    "pgn_file = \"CHUNK/chunk_1.pgn\""
   ]
  },
  {
   "cell_type": "code",
   "execution_count": 48,
   "id": "7d9afb77-e689-400f-b148-bdc3f550c5dd",
   "metadata": {},
   "outputs": [
    {
     "name": "stdout",
     "output_type": "stream",
     "text": [
      "特徵數據： {'early_center_control': 4, 'piece_sacrifices': 63, 'king_activity': 6, 'passed_pawns': 11, 'tactical_moves': 8}\n",
      "棋手風格： 進攻型棋手\n"
     ]
    }
   ],
   "source": [
    "def analyze_game(game):\n",
    "    \"\"\"分析棋局以提取棋手風格特徵\"\"\"\n",
    "    board = game.board()\n",
    "    #print(board)\n",
    "    moves = list(game.mainline_moves())\n",
    "    features = {\n",
    "        \"early_center_control\": 0,  # 開局中心控制\n",
    "        \"piece_sacrifices\": 0,      # 犧牲\n",
    "        \"king_activity\": 0,         # 王的活躍性\n",
    "        \"passed_pawns\": 0,          # 通路兵\n",
    "        \"tactical_moves\": 0         # 戰術進攻\n",
    "    }\n",
    "    \n",
    "    for move_index, move in enumerate(moves):\n",
    "        board.push(move)\n",
    "        #print(board)\n",
    "        #move_san = board.san(move)\n",
    "\n",
    "        # 開局中心控制 (e4, d4, c4 等)\n",
    "        if move_index < 10 and move.uci()[:2] in {\"e2\", \"d2\", \"c2\", \"e7\", \"d7\", \"c7\"}:\n",
    "            features[\"early_center_control\"] += 1\n",
    "\n",
    "        # 戰術犧牲檢測 (是否存在犧牲)\n",
    "        if board.is_capture(move) and board.is_attacked_by(not board.turn, move.to_square):\n",
    "            features[\"piece_sacrifices\"] += 1\n",
    "\n",
    "        # 殘局王的活躍性 (王進入敵方半區)\n",
    "        if board.fullmove_number > 40:\n",
    "            king_square = board.king(board.turn)\n",
    "            if board.turn == chess.WHITE and chess.square_rank(king_square) > 4:\n",
    "                features[\"king_activity\"] += 1\n",
    "            elif board.turn == chess.BLACK and chess.square_rank(king_square) < 3:\n",
    "                features[\"king_activity\"] += 1\n",
    "\n",
    "        # 推進通路兵\n",
    "        piece = board.piece_at(move.to_square)\n",
    "        if piece and piece.piece_type == chess.PAWN and not board.is_attacked_by(not board.turn, move.to_square):\n",
    "            features[\"passed_pawns\"] += 1\n",
    "\n",
    "        # 簡單戰術判斷（如將軍與連續攻擊）\n",
    "        if board.is_check():\n",
    "            features[\"tactical_moves\"] += 1\n",
    "\n",
    "    # 統計結果\n",
    "    return features\n",
    "\n",
    "def determine_style(features):\n",
    "    \"\"\"根據特徵數據判斷棋手風格\"\"\"\n",
    "    if features[\"piece_sacrifices\"] > 2 or features[\"tactical_moves\"] > 5:\n",
    "        return \"進攻型棋手\"\n",
    "    elif features[\"early_center_control\"] > 5:\n",
    "        return \"控制型棋手\"\n",
    "    elif features[\"passed_pawns\"] > 3 or features[\"king_activity\"] > 2:\n",
    "        return \"殘局型棋手\"\n",
    "    else:\n",
    "        return \"均衡型棋手\"\n",
    "\n",
    "with open(pgn_file, \"r\", encoding=\"utf-8\") as pgn:\n",
    "    game = chess.pgn.read_game(pgn)\n",
    "    features = analyze_game(game)\n",
    "    style = determine_style(features)\n",
    "\n",
    "print(\"特徵數據：\", features)\n",
    "print(\"棋手風格：\", style)"
   ]
  },
  {
   "cell_type": "code",
   "execution_count": 22,
   "id": "88b72168-53d2-4da7-9db2-c6d8dffa2f98",
   "metadata": {},
   "outputs": [
    {
     "name": "stdout",
     "output_type": "stream",
     "text": [
      "全部棋局（不含最后一局）已保存到 CSV 文件：chess_games.csv\n"
     ]
    }
   ],
   "source": [
    "# 定义输入和输出文件路径\n",
    "input_file = \"CHUNK/chunk_1.pgn\"  # 上传的文件路径\n",
    "output_file = \"chess_games.csv\"  # 输出的CSV文件路径\n",
    "output_file_test = \"chess_games_test.csv\"  # 输出的CSV文件路径\n",
    "number = 0\n",
    "# 统计棋局总数\n",
    "total_games = 0\n",
    "with open(input_file, \"r\", encoding=\"utf-8\") as pgn:\n",
    "    while chess.pgn.read_game(pgn) is not None:\n",
    "        total_games += 1\n",
    "# 设置只读取总数减 1 的棋局\n",
    "max_games = total_games - 1\n",
    "games_processed = 0\n",
    "fieldnames = []  # 保持原顺序\n",
    "games = []  # 用于存储每盘棋局数据\n",
    "with open(input_file, \"r\", encoding=\"utf-8\") as pgn:\n",
    "    while games_processed < max_games:\n",
    "        game = chess.pgn.read_game(pgn)\n",
    "        if game is None:  # 如果没有更多棋局\n",
    "            break\n",
    "\n",
    "        # 收集字段名\n",
    "        headers = game.headers\n",
    "        for key in headers.keys():\n",
    "            if key not in fieldnames:  # 按照出现顺序添加字段名\n",
    "                fieldnames.append(key)\n",
    "\n",
    "        # 添加棋局数据\n",
    "        game_data = headers.copy()\n",
    "        game_data[\"Moves\"] = game.mainline_moves()  # 移动序列\n",
    "        games.append(game_data)\n",
    "        games_processed += 1\n",
    "\n",
    "# 最后添加 \"Moves\" 列\n",
    "if \"Moves\" not in fieldnames:\n",
    "    fieldnames.append(\"Moves\")\n",
    "\n",
    "# 写入 CSV 文件\n",
    "with open(output_file_test, \"w\", newline=\"\", encoding=\"utf-8\") as csv_file:\n",
    "    csv_writer = csv.DictWriter(csv_file, fieldnames=fieldnames)\n",
    "    csv_writer.writeheader()  # 写入表头\n",
    "    for game_data in games:\n",
    "        csv_writer.writerow(game_data)\n",
    "\n",
    "print(f\"全部棋局（不含最后一局）已保存到 CSV 文件：{output_file}\")"
   ]
  },
  {
   "cell_type": "code",
   "execution_count": 10,
   "id": "f3d903e2-21ef-4219-b700-ee172e28a516",
   "metadata": {},
   "outputs": [
    {
     "name": "stdout",
     "output_type": "stream",
     "text": [
      "1. d4 g6 2. c4 Bg7 3. Nc3 b6 4. e4 Bb7 5. f3 c6 6. Be3 a5 7. Qd2 f6 8. Nge2 g5 9. Ng3 e6 10. Nh5 Bh6 11. h4 gxh4 12. Bxh6 Nxh6 13. Qxh6 d6 14. Nxf6+ Ke7 15. Rxh4 e5 16. Qg7+ Ke6 17. d5+ cxd5 18. cxd5+ Bxd5 19. exd5+ Kf5 20. Bd3+ e4 21. Bxe4+ Ke5 22. Nh5+ Qf6 23. Qxf6#\n"
     ]
    }
   ],
   "source": [
    "games_processed = 0\n",
    "with open(input_file, \"r\", encoding=\"utf-8\") as pgn:\n",
    "    while games_processed < 1:\n",
    "        game = chess.pgn.read_game(pgn)\n",
    "        if game is None:  # 如果没有更多棋局\n",
    "            break\n",
    "\n",
    "        # 收集字段名\n",
    "        headers = game.headers\n",
    "        for key in headers.keys():\n",
    "            if key not in fieldnames:  # 按照出现顺序添加字段名\n",
    "                fieldnames.append(key)\n",
    "\n",
    "        # 添加棋局数据\n",
    "        game_data = headers.copy()\n",
    "        game_data[\"Moves\"] = game.mainline_moves()  # 移动序列\n",
    "        games.append(game_data)\n",
    "        games_processed += 1\n",
    "        print(game_data[\"Moves\"])"
   ]
  },
  {
   "cell_type": "code",
   "execution_count": null,
   "id": "e23dd5af-ce7c-4683-9361-d6cdbfd48d34",
   "metadata": {},
   "outputs": [],
   "source": []
  }
 ],
 "metadata": {
  "kernelspec": {
   "display_name": "Python 3 (ipykernel)",
   "language": "python",
   "name": "python3"
  },
  "language_info": {
   "codemirror_mode": {
    "name": "ipython",
    "version": 3
   },
   "file_extension": ".py",
   "mimetype": "text/x-python",
   "name": "python",
   "nbconvert_exporter": "python",
   "pygments_lexer": "ipython3",
   "version": "3.9.6"
  }
 },
 "nbformat": 4,
 "nbformat_minor": 5
}
